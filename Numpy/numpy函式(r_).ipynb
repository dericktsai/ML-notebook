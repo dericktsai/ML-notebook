{
 "cells": [
  {
   "cell_type": "markdown",
   "metadata": {},
   "source": [
    "## Numpy.r_\n",
    "\n",
    "numpy 函式 r_ 終於被我破關！\n",
    "感謝網路大大詳細解說！\n",
    "https://www.ptt.cc/bbs/Python/M.1490169034.A.2D4.html\n",
    "\n",
    "重點觀念：\n",
    "\n",
    "- Numpy 要將陣列用向量、矩陣來思考\n",
    "- 再來看英文文件恐怕要有線代的轉由名詞輔助\n",
    "- r_ 底層還是用 python 函式，不是用 CPython 重刻，所以速度不會比較快，真正有價值的方法是矩陣組合 [x,y,z]\n",
    "\n",
    "### 基本用法\n",
    "\n",
    "1. 合併向量、矩陣\n",
    "```python\n",
    "np.r_([a],[b])\n",
    "```\n",
    "\n",
    "### 進階用法\n",
    "\n",
    "`np.r_[]` 第一個參數可以放一個陣列，`[x,y]` 或 `[x,y,z]` 來決定矩陣組合\n",
    "\n",
    "一開始，第一種進階用法我還看得懂，`[x,y]` 不就是 \n",
    "- `x` 決定從第幾個維度開始合併\n",
    "- `y` 決定新矩陣維度。\n",
    "\n",
    "第二種階段用法`[x,y,z]`我就一直參透不了。\n",
    "直到參考網路大大的解說，採用以下順序以及觀點\n",
    "\n",
    "- `y` 先決定升級的矩陣維度\n",
    "- `z` 決定每個數值要在第幾維並列\n",
    "- `x` 決定兩個矩陣要從哪一個維度開始合併\n",
    "\n",
    "有了這觀念，再看下面例子就懂了\n",
    "\n",
    "1. x,y\n",
    "\n",
    "A string integer specifies which axis to stack multiple comma separated arrays along. A string of two comma-separated integers allows indication of the minimum number of dimensions to force each entry into as the second integer (the axis to concatenate along is still the first integer).\n",
    "\n",
    "範例：\n",
    "```python\n",
    "np.r_['0,2', [1,2,3], [4,5,6]]\n",
    "```\n",
    "> array([[1, 2, 3],\n",
    ">       [4, 5, 6]])\n",
    "\n",
    "\n",
    "2. x,y,z\n",
    "\n",
    "A string with three comma-separated integers allows specification of the axis to concatenate along, the minimum number of dimensions to force the entries to, and which axis should contain the start of the arrays which are less than the specified number of dimensions. In other words the third integer allows you to specify where the 1’s should be placed in the shape of the arrays that have their shapes upgraded. By default, they are placed in the front of the shape tuple. The third argument allows you to specify where the start of the array should be instead. Thus, a third argument of ‘0’ would place the 1’s at the end of the array shape. Negative integers specify where in the new shape tuple the last dimension of upgraded arrays should be placed, so the default is ‘-1’.\n",
    "\n",
    "搭配範例程式\n",
    "\n",
    "```python\n",
    "np.r_['0,2,0', [1,2,3], [4,5,6]]\n",
    "```\n",
    ">array([[1],\n",
    ">       [2],\n",
    ">       [3],\n",
    ">       [4],\n",
    ">       [5],\n",
    ">       [6]])\n",
    "\n",
    "```python\n",
    "np.r_['1,2,0', [1,2,3], [4,5,6]]\n",
    "```\n",
    ">array([[1, 4],\n",
    ">       [2, 5],\n",
    ">       [3, 6]])\n",
    "       "
   ]
  },
  {
   "cell_type": "code",
   "execution_count": 2,
   "metadata": {},
   "outputs": [],
   "source": [
    "import numpy as np"
   ]
  },
  {
   "cell_type": "code",
   "execution_count": 7,
   "metadata": {},
   "outputs": [
    {
     "data": {
      "text/plain": [
       "array([[[1, 2, 3]],\n",
       "\n",
       "       [[4, 5, 6]]])"
      ]
     },
     "execution_count": 7,
     "metadata": {},
     "output_type": "execute_result"
    }
   ],
   "source": [
    "np.r_['0,3', [1,2,3], [4,5,6]]"
   ]
  },
  {
   "cell_type": "code",
   "execution_count": 19,
   "metadata": {},
   "outputs": [
    {
     "name": "stdout",
     "output_type": "stream",
     "text": [
      "[[[1]]\n",
      "\n",
      " [[2]]\n",
      "\n",
      " [[3]]]\n",
      "(3, 1, 1)\n"
     ]
    }
   ],
   "source": [
    "arr = np.r_['0,3,0', [1,2,3]]\n",
    "print(arr)\n",
    "print(arr.shape)"
   ]
  },
  {
   "cell_type": "code",
   "execution_count": 21,
   "metadata": {},
   "outputs": [
    {
     "name": "stdout",
     "output_type": "stream",
     "text": [
      "[[[1]\n",
      "  [2]\n",
      "  [3]]]\n",
      "(1, 3, 1)\n"
     ]
    }
   ],
   "source": [
    "arr = np.r_['0,3,1', [1,2,3]]\n",
    "print(arr)\n",
    "print(arr.shape)"
   ]
  },
  {
   "cell_type": "code",
   "execution_count": 22,
   "metadata": {},
   "outputs": [
    {
     "name": "stdout",
     "output_type": "stream",
     "text": [
      "[[[1 2 3]]]\n",
      "(1, 1, 3)\n"
     ]
    }
   ],
   "source": [
    "arr = np.r_['0,3,2', [1,2,3]]\n",
    "print(arr)\n",
    "print(arr.shape)"
   ]
  }
 ],
 "metadata": {
  "kernelspec": {
   "display_name": "Python 3",
   "language": "python",
   "name": "python3"
  },
  "language_info": {
   "codemirror_mode": {
    "name": "ipython",
    "version": 3
   },
   "file_extension": ".py",
   "mimetype": "text/x-python",
   "name": "python",
   "nbconvert_exporter": "python",
   "pygments_lexer": "ipython3",
   "version": "3.7.2"
  }
 },
 "nbformat": 4,
 "nbformat_minor": 2
}
