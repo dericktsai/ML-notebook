{
 "cells": [
  {
   "cell_type": "markdown",
   "metadata": {},
   "source": [
    "## ndarray 特性\n",
    "- 可以進行元素級別的運算\n",
    "- 僅能包含單一變數類型\n",
    "- 可不規則使用索引值選取其中元素"
   ]
  },
  {
   "cell_type": "code",
   "execution_count": 3,
   "metadata": {},
   "outputs": [
    {
     "name": "stdout",
     "output_type": "stream",
     "text": [
      "<class 'int'>\n",
      "<class 'bool'>\n",
      "<class 'str'>\n"
     ]
    }
   ],
   "source": [
    "my_list = [98, True, 'Ray']\n",
    "for i in my_list:\n",
    "    print(type(i))"
   ]
  },
  {
   "cell_type": "code",
   "execution_count": 4,
   "metadata": {},
   "outputs": [
    {
     "name": "stdout",
     "output_type": "stream",
     "text": [
      "<class 'numpy.str_'>\n",
      "<class 'numpy.str_'>\n",
      "<class 'numpy.str_'>\n"
     ]
    }
   ],
   "source": [
    "# 轉換成 ndarray 只會剩下一種型別\n",
    "import numpy as np\n",
    "\n",
    "arr = np.array(my_list)\n",
    "for i in arr:\n",
    "    print(type(i))"
   ]
  },
  {
   "cell_type": "markdown",
   "metadata": {},
   "source": [
    "## 選擇 ndarray 的元素\n",
    "- 索引值\n",
    "- 判斷"
   ]
  },
  {
   "cell_type": "code",
   "execution_count": 7,
   "metadata": {},
   "outputs": [
    {
     "data": {
      "text/plain": [
       "array([11, 12, 13, 14, 15, 16, 17, 18, 19, 20])"
      ]
     },
     "execution_count": 7,
     "metadata": {},
     "output_type": "execute_result"
    }
   ],
   "source": [
    "arr = np.arange(11, 21)"
   ]
  },
  {
   "cell_type": "code",
   "execution_count": 12,
   "metadata": {},
   "outputs": [
    {
     "name": "stdout",
     "output_type": "stream",
     "text": [
      "11\n",
      "20\n",
      "[11 13 15 17 19]\n",
      "[11 12 20]\n"
     ]
    }
   ],
   "source": [
    "# 索引值\n",
    "print(arr[0])\n",
    "print(arr[-1])\n",
    "print(arr[::2])\n",
    "\n",
    "# 特殊用法：用 list 就可以跳著選\n",
    "print(arr[[0, 1, -1]])"
   ]
  },
  {
   "cell_type": "code",
   "execution_count": 15,
   "metadata": {},
   "outputs": [
    {
     "name": "stdout",
     "output_type": "stream",
     "text": [
      "[False False False False False  True  True  True  True  True]\n",
      "[16 17 18 19 20]\n"
     ]
    }
   ],
   "source": [
    "# 直接判斷\n",
    "print(arr > 15)\n",
    "# 搭配判斷結果得到需要的 array\n",
    "print(arr[arr > 15])"
   ]
  },
  {
   "cell_type": "markdown",
   "metadata": {},
   "source": [
    "## 常用屬性\n",
    "- .dtype 顯示 list 元素型別\n",
    "- .shape 大小\n",
    "- .size 幾個元素\n",
    "- .ndim 多少維度\n",
    "- .T 轉置矩陣"
   ]
  },
  {
   "cell_type": "code",
   "execution_count": 27,
   "metadata": {},
   "outputs": [
    {
     "name": "stdout",
     "output_type": "stream",
     "text": [
      "list 裝的型別為 int64\n",
      "list 形狀大小是 (2, 3)\n",
      "list 有 6 個元素\n",
      "list 有: 2 維\n",
      "轉置結果\n",
      "[[1 4]\n",
      " [2 5]\n",
      " [3 6]]\n",
      "轉置結果形狀大小 (3, 2)\n"
     ]
    }
   ],
   "source": [
    "arr = np.array([\n",
    "    [1, 2, 3],\n",
    "    [4, 5, 6]\n",
    "])\n",
    "\n",
    "print(f'list 裝的型別為 {arr.dtype}')\n",
    "print(f'list 形狀大小是 {arr.shape}')\n",
    "print(f'list 有 {arr.size} 個元素')\n",
    "print(f'list 有: {arr.ndim} 維')\n",
    "print(f'轉置結果\\n{arr.T}')\n",
    "print(f'轉置結果形狀大小 {arr.T.shape}')"
   ]
  },
  {
   "cell_type": "markdown",
   "metadata": {},
   "source": [
    "## 常用方法\n",
    "- .reshape 重新組合 n*m 矩陣\n",
    "- .ravel 攤平多維矩陣成為一維\n",
    "- .prod 取得乘積\n",
    "- .sum 取得總和\n",
    "- .where 依條件可以做一些事\n",
    "- .concatenate 合併矩陣，可以依照 axis 調整合併的軸心\n",
    "- .sort 整理"
   ]
  },
  {
   "cell_type": "code",
   "execution_count": 6,
   "metadata": {},
   "outputs": [
    {
     "data": {
      "text/plain": [
       "array([ 1,  2,  3,  4,  5,  6,  7,  8,  9, 10])"
      ]
     },
     "execution_count": 6,
     "metadata": {},
     "output_type": "execute_result"
    }
   ],
   "source": [
    "arr = np.arange(1, 11)"
   ]
  },
  {
   "cell_type": "code",
   "execution_count": 9,
   "metadata": {},
   "outputs": [
    {
     "name": "stdout",
     "output_type": "stream",
     "text": [
      "[[ 1  2  3  4  5]\n",
      " [ 6  7  8  9 10]]\n",
      "[ 1  2  3  4  5  6  7  8  9 10]\n"
     ]
    }
   ],
   "source": [
    "# reshape: 2 * 5 矩陣\n",
    "arr = arr.reshape(2, 5)\n",
    "print(arr)\n",
    "# ravel: 攤平\n",
    "print(arr.ravel())"
   ]
  },
  {
   "cell_type": "code",
   "execution_count": 12,
   "metadata": {},
   "outputs": [
    {
     "name": "stdout",
     "output_type": "stream",
     "text": [
      "3628800\n",
      "[ 6 14 24 36 50]\n",
      "[  120 30240]\n"
     ]
    }
   ],
   "source": [
    "# .prod\n",
    "# 全部數字相乘\n",
    "print(arr.prod())\n",
    "# 以欄位為軸心，每一列數字相乘\n",
    "print(arr.prod(axis=0))\n",
    "# 以列為軸心，每一欄數字相乘\n",
    "print(arr.prod(axis=1))"
   ]
  },
  {
   "cell_type": "code",
   "execution_count": 22,
   "metadata": {},
   "outputs": [
    {
     "data": {
      "text/plain": [
       "array([[ 1,  2, 99, 99, 99],\n",
       "       [99, 99, 99, 99, 99]])"
      ]
     },
     "execution_count": 22,
     "metadata": {},
     "output_type": "execute_result"
    }
   ],
   "source": [
    "# .where\n",
    "# 如果只有條件，where 會回傳一個 tuple，代表 nonzero 的元素座標\n",
    "np.where(arr > 2, 99, arr)"
   ]
  },
  {
   "cell_type": "code",
   "execution_count": 38,
   "metadata": {},
   "outputs": [
    {
     "name": "stdout",
     "output_type": "stream",
     "text": [
      "[ 1  2  3  4  5  6  7  8  9 10 11 12 13 14 15 16 17 18 19 20]\n"
     ]
    }
   ],
   "source": [
    "# .concatenate 用來合併矩陣，依照 axis（default 0）來決定軸心，axis=None 則攤平處理\n",
    "arr_1 = np.arange(1, 11).reshape(2, 5)\n",
    "# print(arr_1)\n",
    "arr_2 = np.arange(11, 21).reshape(2, 5)\n",
    "# print(arr_2)\n",
    "flat = np.concatenate((arr_1, arr_2), axis=None)\n",
    "print(flat)\n",
    "vertical = np.concatenate((arr_1, arr_2), axis=0)\n",
    "# print(vertical)\n",
    "horizontal = np.concatenate((arr_1, arr_2), axis=1)\n",
    "# print(horizontal)"
   ]
  }
 ],
 "metadata": {
  "kernelspec": {
   "display_name": "Python 3",
   "language": "python",
   "name": "python3"
  },
  "language_info": {
   "codemirror_mode": {
    "name": "ipython",
    "version": 3
   },
   "file_extension": ".py",
   "mimetype": "text/x-python",
   "name": "python",
   "nbconvert_exporter": "python",
   "pygments_lexer": "ipython3",
   "version": "3.7.2"
  }
 },
 "nbformat": 4,
 "nbformat_minor": 2
}
