{
 "cells": [
  {
   "cell_type": "markdown",
   "metadata": {},
   "source": [
    "# Numpy 簡易說明\n",
    "Python 有一種運算子叫做向量運算子可以做相加\n",
    "舉例: [1,2,3] + [4,5,6] 結果是 [1,2,3,4,5,6]\n",
    "\n",
    "但是數學向量運算還有乘除...\n",
    "Numpy 這個套件就是要來解決這個問題\n",
    "舉例：[1,2] * 2 結果就是 [2,4]\n",
    "> 前提 [1,2] 型別是 ndarray"
   ]
  },
  {
   "cell_type": "markdown",
   "metadata": {},
   "source": [
    "## 先來簡單範例\n",
    "題目一：從公里轉成英里"
   ]
  },
  {
   "cell_type": "code",
   "execution_count": 2,
   "metadata": {},
   "outputs": [],
   "source": [
    "kms = [1.6, 3, 5, 10, 42.195]\n",
    "km_to_mile = 0.62137"
   ]
  },
  {
   "cell_type": "code",
   "execution_count": 3,
   "metadata": {},
   "outputs": [
    {
     "name": "stdout",
     "output_type": "stream",
     "text": [
      "[0.994192, 1.86411, 3.1068499999999997, 6.213699999999999, 26.21870715]\n"
     ]
    }
   ],
   "source": [
    "# 使用 map\n",
    "miles = map(lambda x: x * km_to_mile, kms)\n",
    "print(list(miles))"
   ]
  },
  {
   "cell_type": "code",
   "execution_count": 4,
   "metadata": {},
   "outputs": [
    {
     "data": {
      "text/plain": [
       "array([ 0.994192  ,  1.86411   ,  3.10685   ,  6.2137    , 26.21870715])"
      ]
     },
     "execution_count": 4,
     "metadata": {},
     "output_type": "execute_result"
    }
   ],
   "source": [
    "# 使用 Numpy 的 array\n",
    "import numpy as np\n",
    "# 1. list 先轉成 ndarray\n",
    "km_array = np.array(kms)\n",
    "# 2. 進行運算\n",
    "miles = km_array * km_to_mile\n",
    "miles"
   ]
  },
  {
   "cell_type": "markdown",
   "metadata": {},
   "source": [
    "題目二：計算 BMI\n",
    "> BMI 算法：體重(公斤)/身高平方(公尺)"
   ]
  },
  {
   "cell_type": "code",
   "execution_count": 4,
   "metadata": {},
   "outputs": [],
   "source": [
    "heights = [173, 161, 166, 155, 180]\n",
    "weights = [72, 59, 61.4, 50, 88]"
   ]
  },
  {
   "cell_type": "code",
   "execution_count": 26,
   "metadata": {},
   "outputs": [
    {
     "data": {
      "text/plain": [
       "array([24.05693475, 22.76146754, 22.28189868, 20.81165453, 27.16049383])"
      ]
     },
     "execution_count": 26,
     "metadata": {},
     "output_type": "execute_result"
    }
   ],
   "source": [
    "height_array = np.array(heights)\n",
    "weight_array = np.array(weights)\n",
    "\n",
    "bmis = weight_array / (height_array / 100) ** 2\n",
    "bmis"
   ]
  },
  {
   "cell_type": "markdown",
   "metadata": {},
   "source": [
    "題目三：[1, 2, 3, 4, 5] 取出大於 3 的數字 list"
   ]
  },
  {
   "cell_type": "code",
   "execution_count": 44,
   "metadata": {},
   "outputs": [
    {
     "name": "stdout",
     "output_type": "stream",
     "text": [
      "[4 5]\n"
     ]
    }
   ],
   "source": [
    "nums = np.array([1, 2, 3, 4, 5])\n",
    "print(nums[nums > 3])"
   ]
  },
  {
   "cell_type": "markdown",
   "metadata": {},
   "source": [
    "## 基礎建立 nd-array 方法\n",
    "arange(), linspace(), ones(), zeros(), random.randint()\n",
    "以上都可以指定型別"
   ]
  },
  {
   "cell_type": "code",
   "execution_count": 29,
   "metadata": {},
   "outputs": [
    {
     "name": "stdout",
     "output_type": "stream",
     "text": [
      "[ 1  2  3  4  5  6  7  8  9 10]\n"
     ]
    }
   ],
   "source": [
    "# arrange\n",
    "arr = np.arange(1, 11)\n",
    "print(arr)"
   ]
  },
  {
   "cell_type": "code",
   "execution_count": 31,
   "metadata": {},
   "outputs": [
    {
     "name": "stdout",
     "output_type": "stream",
     "text": [
      "[ 1.    3.25  5.5   7.75 10.  ]\n"
     ]
    }
   ],
   "source": [
    "# linspace 從 x 到 y 等距分為 z 份\n",
    "arr = np.linspace(1, 10, 5)\n",
    "print(arr)"
   ]
  },
  {
   "cell_type": "code",
   "execution_count": 33,
   "metadata": {},
   "outputs": [
    {
     "name": "stdout",
     "output_type": "stream",
     "text": [
      "[1. 1. 1. 1. 1. 1. 1. 1. 1. 1.]\n"
     ]
    }
   ],
   "source": [
    "# ones 產生個數 n 都是 1 的 nd-array\n",
    "arr = np.ones(10)\n",
    "print(arr)"
   ]
  },
  {
   "cell_type": "code",
   "execution_count": 35,
   "metadata": {},
   "outputs": [
    {
     "name": "stdout",
     "output_type": "stream",
     "text": [
      "[0. 0. 0. 0. 0. 0. 0. 0. 0. 0.]\n"
     ]
    }
   ],
   "source": [
    "# zeros 產生個數 n 都是 0 的 nd-array\n",
    "arr = np.zeros(10)\n",
    "print(arr)"
   ]
  },
  {
   "cell_type": "code",
   "execution_count": 38,
   "metadata": {},
   "outputs": [
    {
     "name": "stdout",
     "output_type": "stream",
     "text": [
      "[3 5 5 2 3 4 9 5 2 4]\n"
     ]
    }
   ],
   "source": [
    "# 亂數產生, 1<=x<10, shape: 1 x 10\n",
    "# 回傳是一個 array\n",
    "arr = np.random.randint(1, 10, 10)\n",
    "print(arr)"
   ]
  },
  {
   "cell_type": "code",
   "execution_count": 6,
   "metadata": {},
   "outputs": [
    {
     "data": {
      "text/plain": [
       "array([0, 0, 0, 0, 0, 0, 0, 0, 0, 0])"
      ]
     },
     "execution_count": 6,
     "metadata": {},
     "output_type": "execute_result"
    }
   ],
   "source": [
    "# 亂數產生，如果只有 low，沒有 high，產生範圍會自動變成 0<=x<low\n",
    "np.random.randint(1, size=10)"
   ]
  },
  {
   "cell_type": "code",
   "execution_count": 8,
   "metadata": {},
   "outputs": [
    {
     "data": {
      "text/plain": [
       "array([[0, 1]])"
      ]
     },
     "execution_count": 8,
     "metadata": {},
     "output_type": "execute_result"
    }
   ],
   "source": [
    "# size 可以用 tuple 表示結果為 n * m 陣列，輸出 [[size=n*m]]\n",
    "np.random.randint(2, size=(1, 2))"
   ]
  },
  {
   "cell_type": "code",
   "execution_count": 43,
   "metadata": {},
   "outputs": [
    {
     "name": "stdout",
     "output_type": "stream",
     "text": [
      "[1.+0.j 1.+0.j 1.+0.j 1.+0.j 1.+0.j 1.+0.j 1.+0.j 1.+0.j 1.+0.j 1.+0.j]\n"
     ]
    }
   ],
   "source": [
    "# 產生時指定型別\n",
    "arr = np.ones(2, dtype=bool)\n",
    "arr = np.zeros(3, dtype=int)\n",
    "arr = np.ones(3, dtype=str)\n",
    "# 特殊：np.zeros 指定 str，結果是' '\n",
    "arr = np.ones(10, dtype=complex)\n",
    "print(arr)"
   ]
  }
 ],
 "metadata": {
  "kernelspec": {
   "display_name": "Python 3",
   "language": "python",
   "name": "python3"
  },
  "language_info": {
   "codemirror_mode": {
    "name": "ipython",
    "version": 3
   },
   "file_extension": ".py",
   "mimetype": "text/x-python",
   "name": "python",
   "nbconvert_exporter": "python",
   "pygments_lexer": "ipython3",
   "version": "3.7.2"
  }
 },
 "nbformat": 4,
 "nbformat_minor": 2
}
