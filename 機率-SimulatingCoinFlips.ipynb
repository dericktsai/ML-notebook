{
 "cells": [
  {
   "cell_type": "markdown",
   "metadata": {},
   "source": [
    "用 numpy.random.choice 來模擬投幣"
   ]
  },
  {
   "cell_type": "code",
   "execution_count": 2,
   "metadata": {},
   "outputs": [],
   "source": [
    "import numpy as np"
   ]
  },
  {
   "cell_type": "code",
   "execution_count": 4,
   "metadata": {},
   "outputs": [
    {
     "data": {
      "text/plain": [
       "array([3, 3, 3])"
      ]
     },
     "execution_count": 4,
     "metadata": {},
     "output_type": "execute_result"
    }
   ],
   "source": [
    "# 第一個 Parameter 是 1-D array 一維陣列\n",
    "# 如果只給一個數字，會自動以 range(int) 來產生 1-D array\n",
    "# 第二個 parameter 是輸出形狀，以下範例可以理解為投三次硬幣，依機率得到的結果\n",
    "np.random.choice(5, 3, p=[0.1, 0, 0.3, 0.6, 0])"
   ]
  }
 ],
 "metadata": {
  "kernelspec": {
   "display_name": "Python 3",
   "language": "python",
   "name": "python3"
  },
  "language_info": {
   "codemirror_mode": {
    "name": "ipython",
    "version": 3
   },
   "file_extension": ".py",
   "mimetype": "text/x-python",
   "name": "python",
   "nbconvert_exporter": "python",
   "pygments_lexer": "ipython3",
   "version": "3.7.2"
  }
 },
 "nbformat": 4,
 "nbformat_minor": 2
}
