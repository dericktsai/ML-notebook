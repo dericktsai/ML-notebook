{
 "cells": [
  {
   "cell_type": "markdown",
   "metadata": {},
   "source": [
    "簡介 Introduction: 5\n",
    "向量 Vectors: 23\n",
    "矩陣 Matrices: 13\n",
    "矩陣乘法 Matrix multiplications: 18 \n",
    "矩陣等級 Matrix rank: 12\n",
    "矩陣空間 Matrix spaces: 8\n",
    "求解方程組 Solving systems of equations: 8\n",
    "矩陣行列式 Matrix determinant: 7\n",
    "逆矩陣 Matrix inverse: 10\n",
    "項目和正交化 Projects and orthogonalization: 9\n",
    "靜力模型擬合的最小二乘 Least-squares for model-fitting in statics: 8\n",
    "特徵分解 Eigendecomposition: 16\n",
    "奇異值分解 Singular value decomposition: 10\n",
    "二次形式和確定性 Quadratic form and definiteness: 10\n",
    "相關課程的優惠券 Discount coupons for related courses: 1"
   ]
  }
 ],
 "metadata": {
  "kernelspec": {
   "display_name": "Python 3",
   "language": "python",
   "name": "python3"
  },
  "language_info": {
   "codemirror_mode": {
    "name": "ipython",
    "version": 3
   },
   "file_extension": ".py",
   "mimetype": "text/x-python",
   "name": "python",
   "nbconvert_exporter": "python",
   "pygments_lexer": "ipython3",
   "version": "3.7.2"
  }
 },
 "nbformat": 4,
 "nbformat_minor": 2
}
